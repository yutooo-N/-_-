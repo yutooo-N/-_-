{
 "cells": [
  {
   "cell_type": "markdown",
   "metadata": {},
   "source": [
    "# 12 機械学習の基礎（教師なし学習）"
   ]
  },
  {
   "cell_type": "markdown",
   "metadata": {},
   "source": [
    "- **[12.1 クラスタリング(クラスター分析）](#12.1-クラスタリング(クラスター分析）)** \n",
    "<br><br>\n",
    "- **[12.2 次元圧縮（主成分分析）](#12.2-次元圧縮（主成分分析）)** \n",
    "<br><br>\n",
    "- **[12.3 バスケット分析とアソシエーションルール](#12.3-バスケット分析とアソシエーションルール)** \n",
    "<br><br>\n",
    "- **[12.4 総合問題](#12.4-総合問題)**\n",
    "    - [12.4.1 総合問題1](#12.4.1-総合問題1)\n",
    "    - [12.4.2 総合問題2](#12.4.2-総合問題2)"
   ]
  },
  {
   "cell_type": "code",
   "execution_count": 1,
   "metadata": {},
   "outputs": [
    {
     "data": {
      "text/plain": [
       "'%.3f'"
      ]
     },
     "execution_count": 1,
     "metadata": {},
     "output_type": "execute_result"
    }
   ],
   "source": [
    "# 途中で使用するため、あらかじめ読み込んでおいてください。\n",
    "# データ加工・処理・分析モジュール\n",
    "import numpy as np\n",
    "import numpy.random as random\n",
    "import scipy as sp\n",
    "from pandas import Series, DataFrame\n",
    "import pandas as pd\n",
    "import warnings\n",
    "warnings.filterwarnings(\"ignore\")\n",
    "\n",
    "# 可視化モジュール\n",
    "import matplotlib.pyplot as plt\n",
    "import matplotlib as mpl\n",
    "import seaborn as sns\n",
    "%matplotlib inline\n",
    "\n",
    "# 機械学習モジュール\n",
    "import sklearn\n",
    "\n",
    "# 小数第３まで表示\n",
    "%precision 3"
   ]
  },
  {
   "cell_type": "markdown",
   "metadata": {},
   "source": [
    "## 12.1 クラスタリング(クラスター分析）\n",
    "キーワード：k-means、k-means++、エルボー法、非階層型、階層型"
   ]
  },
  {
   "cell_type": "markdown",
   "metadata": {},
   "source": [
    "ここから、教師なし学習について学びましょう。教師なし学習は、教師あり学習と異なり、アウトプット（Y）やゴールが与えられず、インプットのデータだけを使って、インサイトを見つけ出す方法でした。つまり予測すべきターゲット変数がありません。答えがわかっていない状態で、データの隠れた構造を見つけ出す手法が教師なし学習です。前にも触れました通り、人間的な解釈が必要な場面も多く、探索的なデータ分析だと言えるでしょう。まずは、簡単な数値例からクラスタリングを実施していきましょう。（なお、クラスタリングはクラスター分析とも言います。）"
   ]
  },
  {
   "cell_type": "markdown",
   "metadata": {},
   "source": [
    "ここでは、よくクラスタリングで使われる**k-means**法について取り扱っていきます。具体的には、以下のような図を参考に、ある属性データ（収入、借入れなど）が与えられて、顧客を3つのグループに分けることを考えます。以下の平面の中からどこでも良いので、ランダムに3つ点を取ります。それぞれの点をクラスター1、クラスター2、クラスター3とします。そして、それぞれの点データについて、3つのクラスターの中から一番近い点を選び、それを自身のクラスター番号とします。すべてのデータについてクラスター番号が決まった後は、それぞれのクラスターの重心（平均）を計算します。その3つの点を再びクラスターの番号として、データがその3点の中で一番近い点を選び、これを繰り返していきます。この中心点が動かなくなったら、そこで終了になります。これがk-meansです。（なお、後で紹介するEMアルゴリズム(期待値ステップと最大化ステップの繰り返し)と関係があります。）\n",
    "\n",
    "以下の参照URLはイメージです。"
   ]
  },
  {
   "cell_type": "markdown",
   "metadata": {},
   "source": [
    "![comment](http://insidebigdata.com/wp-content/uploads/2013/12/Clustering.gif)"
   ]
  },
  {
   "cell_type": "markdown",
   "metadata": {},
   "source": [
    "参照URL：http://insidebigdata.com/wp-content/uploads/2013/12/Clustering.gif"
   ]
  },
  {
   "cell_type": "markdown",
   "metadata": {},
   "source": [
    "アルゴリズムは上の説明だけだとなかなかイメージしにくいと思いますので、以下のURLを参考にしてみてください。"
   ]
  },
  {
   "cell_type": "markdown",
   "metadata": {},
   "source": [
    "参考URL：http://tech.nitoyon.com/ja/blog/2013/11/07/k-means/"
   ]
  },
  {
   "cell_type": "markdown",
   "metadata": {},
   "source": [
    "なお、k-meansはKMean関数を使いますが、以下で設定しているパラメータ（init='random'）を省略すると**k-means++**になります。k-means++は、k-meansで初期値で設定する値をなるべく広げて取るように計算する手法で、k-meansよりも安定的な結果が得られます。k-meansは先ほど見たように、初めに取る点をランダムに選択するので、その影響で偏りが生じる可能性があり、その解決を試みたのがk-means++です。\n",
    "\n",
    "他には、上のようにセントロイド（平均）ではなく、medoid（中央値）を計算する方法**k-medoids法**などもあります。これは、k-means法のように中心点が架空の数値をとることはなく、実在する点をとります。外れ値による影響が少ないことがこの方法のメリットです。\n",
    "\n",
    "これらの手法について興味のある方や実際に実装する機会がある方は、調べてみてください。"
   ]
  },
  {
   "cell_type": "markdown",
   "metadata": {},
   "source": [
    ">**[やってみよう]**\n",
    "\n",
    ">k-means、k-means++、k-medoidsについて調べてみましょう。それぞれのメリット、デメリットや実装方法などについて調べてみましょう。"
   ]
  },
  {
   "cell_type": "markdown",
   "metadata": {},
   "source": [
    "では、サンプルとしてk-meansを実行してみましょう。データはsklearnにあるmake_blobsのデータを使います。"
   ]
  },
  {
   "cell_type": "code",
   "execution_count": 2,
   "metadata": {},
   "outputs": [
    {
     "data": {
      "text/plain": [
       "<matplotlib.collections.PathCollection at 0x7f21d6a70860>"
      ]
     },
     "execution_count": 2,
     "metadata": {},
     "output_type": "execute_result"
    },
    {
     "data": {
      "image/png": "[encoded data removed]",
      "text/plain": [
       "<Figure size 432x288 with 1 Axes>"
      ]
     },
     "metadata": {
      "needs_background": "light"
     },
     "output_type": "display_data"
    }
   ],
   "source": [
    "from sklearn.datasets import make_blobs\n",
    "from sklearn.cluster import KMeans\n",
    "\n",
    "X,y = make_blobs(random_state=10)\n",
    "\n",
    "plt.scatter(X[:,0],X[:,1],color='black')"
   ]
  },
  {
   "cell_type": "markdown",
   "metadata": {},
   "source": [
    "関数はKMeansを使います。initをrandom、n_clusters=3と設定しています。3はクラスター数といい、グループの数です。"
   ]
  },
  {
   "cell_type": "code",
   "execution_count": 3,
   "metadata": {},
   "outputs": [],
   "source": [
    "kmeans = KMeans(init='random',n_clusters=3)\n",
    "kmeans.fit(X)\n",
    "\n",
    "y_pre = kmeans.fit_predict(X)"
   ]
  },
  {
   "cell_type": "markdown",
   "metadata": {},
   "source": [
    "上の図から、どのようにグループ（クラスター）ができるかは予想できそうですが、先ほどのk-meansの結果をグラフ化してみましょう。それぞれのインスタンス（データの1行に値するもの、人の属性データなら一人分のデータ）にクラスター番号が付与されます。ここでもpandasのテクニックを使います。"
   ]
  },
  {
   "cell_type": "code",
   "execution_count": 4,
   "metadata": {},
   "outputs": [],
   "source": [
    "# 順にx座標、y座標、cluster番号のデータを横に結合するためconcatでaxis=1を指定しています。\n",
    "merge_data = pd.concat([pd.DataFrame(X[:,0]),pd.DataFrame(X[:,1]),pd.DataFrame(y_pre)]\n",
    "                       ,axis=1)\n",
    "\n",
    "\n",
    "# elementが属性、clusterがクラスター番号\n",
    "merge_data.columns = [\"element1\",\"element2\",\"cluster\"]"
   ]
  },
  {
   "cell_type": "markdown",
   "metadata": {},
   "source": [
    "グラフ化するために、グループごとにデータを分けることにします。例えば、クラスター0のグループはmerge_data_cluster0とします。"
   ]
  },
  {
   "cell_type": "code",
   "execution_count": 5,
   "metadata": {},
   "outputs": [],
   "source": [
    "merge_data_cluster0 = merge_data[merge_data[\"cluster\"]==0]\n",
    "merge_data_cluster1 = merge_data[merge_data[\"cluster\"]==1]\n",
    "merge_data_cluster2 = merge_data[merge_data[\"cluster\"]==2]"
   ]
  },
  {
   "cell_type": "markdown",
   "metadata": {},
   "source": [
    "次に、実際にそれぞれのグループデータで、x軸をelement1、y軸をelement2として、色をそれぞれ分けて図示すると以下のようになります。"
   ]
  },
  {
   "cell_type": "code",
   "execution_count": 6,
   "metadata": {
    "scrolled": true
   },
   "outputs": [
    {
     "data": {
      "image/png": "[encoded data removed]",
      "text/plain": [
       "<Figure size 432x288 with 1 Axes>"
      ]
     },
     "metadata": {
      "needs_background": "light"
     },
     "output_type": "display_data"
    }
   ],
   "source": [
    "ax =merge_data_cluster0.plot.scatter(x='element1', y='element2', color='red', label='cluster0');\n",
    "merge_data_cluster1.plot.scatter(x='element1', y='element2', color='blue', label='cluster1',ax=ax);\n",
    "merge_data_cluster2.plot.scatter(x='element1', y='element2', color='green', label='cluster2',ax=ax);"
   ]
  },
  {
   "cell_type": "markdown",
   "metadata": {},
   "source": [
    "上の図を見ていただくとわかるように、クラスター分析を実施することで、綺麗に3つのグループに分かれることがわかります。"
   ]
  },
  {
   "cell_type": "markdown",
   "metadata": {},
   "source": [
    "さて次に、このクラスタリングの結果を一体どうやって活用していくのか、実際のマーケティングのデータを使って見ていきましょう。\n",
    "\n",
    "次に扱うデータは、ある金融機関のデータで、お客さんが定期預金の申し込みをしたかどうかのデータです。このデータには、キャンペーンの実施状況、お客さんの属性情報などいろいろデータがあります。このデータをクライアントから受け取って、「そもそも私たちにどんなお客さんがいるのかわからないので分析してほしい」というお題をいただいたとしましょう。\n",
    "\n",
    "教師あり学習アプローチを考えるならば、定期預金をしたかどうかを目的変数にしてモデルを構築したいところですが、今回のように、何か目標となる変数がはっきりしないというケースはビジネスでは多々あります。このような場合や、データの中から潜在的な構造を見つけ出すために、教師なし学習のクラスタリングを実施してみるのも手でしょう。\n",
    "\n",
    "まずは、対象データを読み込みます。(また、あらかじめディレクトリを作成し、そこへ移動しておきましょう。)"
   ]
  },
  {
   "cell_type": "code",
   "execution_count": 7,
   "metadata": {},
   "outputs": [],
   "source": [
    "# webからデータを取得したり、zipファイルを扱うためのモジュール\n",
    "import requests, zipfile\n",
    "from io import StringIO\n",
    "import io\n",
    "\n",
    "# データがあるurl の指定\n",
    "zip_file_url = \"http://archive.ics.uci.edu/ml/machine-learning-databases/00222/bank.zip\"\n",
    "\n",
    "# データを取得して展開する\n",
    "r = requests.get(zip_file_url, stream=True)\n",
    "z = zipfile.ZipFile(io.BytesIO(r.content))\n",
    "z.extractall()"
   ]
  },
  {
   "cell_type": "markdown",
   "metadata": {},
   "source": [
    "データの確認をします。対象となるデータは、bank-full.csvになりますので、それを読み込みます。今回も区切りは「;」なので、気をつけてください。"
   ]
  },
  {
   "cell_type": "code",
   "execution_count": 8,
   "metadata": {
    "scrolled": true
   },
   "outputs": [
    {
     "data": {
      "text/html": [
       "<div>\n",
       "<style scoped>\n",
       "    .dataframe tbody tr th:only-of-type {\n",
       "        vertical-align: middle;\n",
       "    }\n",
       "\n",
       "    .dataframe tbody tr th {\n",
       "        vertical-align: top;\n",
       "    }\n",
       "\n",
       "    .dataframe thead th {\n",
       "        text-align: right;\n",
       "    }\n",
       "</style>\n",
       "<table border=\"1\" class=\"dataframe\">\n",
       "  <thead>\n",
       "    <tr style=\"text-align: right;\">\n",
       "      <th></th>\n",
       "      <th>age</th>\n",
       "      <th>job</th>\n",
       "      <th>marital</th>\n",
       "      <th>education</th>\n",
       "      <th>default</th>\n",
       "      <th>balance</th>\n",
       "      <th>housing</th>\n",
       "      <th>loan</th>\n",
       "      <th>contact</th>\n",
       "      <th>day</th>\n",
       "      <th>month</th>\n",
       "      <th>duration</th>\n",
       "      <th>campaign</th>\n",
       "      <th>pdays</th>\n",
       "      <th>previous</th>\n",
       "      <th>poutcome</th>\n",
       "      <th>y</th>\n",
       "    </tr>\n",
       "  </thead>\n",
       "  <tbody>\n",
       "    <tr>\n",
       "      <th>0</th>\n",
       "      <td>58</td>\n",
       "      <td>management</td>\n",
       "      <td>married</td>\n",
       "      <td>tertiary</td>\n",
       "      <td>no</td>\n",
       "      <td>2143</td>\n",
       "      <td>yes</td>\n",
       "      <td>no</td>\n",
       "      <td>unknown</td>\n",
       "      <td>5</td>\n",
       "      <td>may</td>\n",
       "      <td>261</td>\n",
       "      <td>1</td>\n",
       "      <td>-1</td>\n",
       "      <td>0</td>\n",
       "      <td>unknown</td>\n",
       "      <td>no</td>\n",
       "    </tr>\n",
       "    <tr>\n",
       "      <th>1</th>\n",
       "      <td>44</td>\n",
       "      <td>technician</td>\n",
       "      <td>single</td>\n",
       "      <td>secondary</td>\n",
       "      <td>no</td>\n",
       "      <td>29</td>\n",
       "      <td>yes</td>\n",
       "      <td>no</td>\n",
       "      <td>unknown</td>\n",
       "      <td>5</td>\n",
       "      <td>may</td>\n",
       "      <td>151</td>\n",
       "      <td>1</td>\n",
       "      <td>-1</td>\n",
       "      <td>0</td>\n",
       "      <td>unknown</td>\n",
       "      <td>no</td>\n",
       "    </tr>\n",
       "    <tr>\n",
       "      <th>2</th>\n",
       "      <td>33</td>\n",
       "      <td>entrepreneur</td>\n",
       "      <td>married</td>\n",
       "      <td>secondary</td>\n",
       "      <td>no</td>\n",
       "      <td>2</td>\n",
       "      <td>yes</td>\n",
       "      <td>yes</td>\n",
       "      <td>unknown</td>\n",
       "      <td>5</td>\n",
       "      <td>may</td>\n",
       "      <td>76</td>\n",
       "      <td>1</td>\n",
       "      <td>-1</td>\n",
       "      <td>0</td>\n",
       "      <td>unknown</td>\n",
       "      <td>no</td>\n",
       "    </tr>\n",
       "    <tr>\n",
       "      <th>3</th>\n",
       "      <td>47</td>\n",
       "      <td>blue-collar</td>\n",
       "      <td>married</td>\n",
       "      <td>unknown</td>\n",
       "      <td>no</td>\n",
       "      <td>1506</td>\n",
       "      <td>yes</td>\n",
       "      <td>no</td>\n",
       "      <td>unknown</td>\n",
       "      <td>5</td>\n",
       "      <td>may</td>\n",
       "      <td>92</td>\n",
       "      <td>1</td>\n",
       "      <td>-1</td>\n",
       "      <td>0</td>\n",
       "      <td>unknown</td>\n",
       "      <td>no</td>\n",
       "    </tr>\n",
       "    <tr>\n",
       "      <th>4</th>\n",
       "      <td>33</td>\n",
       "      <td>unknown</td>\n",
       "      <td>single</td>\n",
       "      <td>unknown</td>\n",
       "      <td>no</td>\n",
       "      <td>1</td>\n",
       "      <td>no</td>\n",
       "      <td>no</td>\n",
       "      <td>unknown</td>\n",
       "      <td>5</td>\n",
       "      <td>may</td>\n",
       "      <td>198</td>\n",
       "      <td>1</td>\n",
       "      <td>-1</td>\n",
       "      <td>0</td>\n",
       "      <td>unknown</td>\n",
       "      <td>no</td>\n",
       "    </tr>\n",
       "  </tbody>\n",
       "</table>\n",
       "</div>"
      ],
      "text/plain": [
       "   age           job  marital  education default  balance housing loan  \\\n",
       "0   58    management  married   tertiary      no     2143     yes   no   \n",
       "1   44    technician   single  secondary      no       29     yes   no   \n",
       "2   33  entrepreneur  married  secondary      no        2     yes  yes   \n",
       "3   47   blue-collar  married    unknown      no     1506     yes   no   \n",
       "4   33       unknown   single    unknown      no        1      no   no   \n",
       "\n",
       "   contact  day month  duration  campaign  pdays  previous poutcome   y  \n",
       "0  unknown    5   may       261         1     -1         0  unknown  no  \n",
       "1  unknown    5   may       151         1     -1         0  unknown  no  \n",
       "2  unknown    5   may        76         1     -1         0  unknown  no  \n",
       "3  unknown    5   may        92         1     -1         0  unknown  no  \n",
       "4  unknown    5   may       198         1     -1         0  unknown  no  "
      ]
     },
     "execution_count": 8,
     "metadata": {},
     "output_type": "execute_result"
    }
   ],
   "source": [
    "banking_c_data = pd.read_csv(\"bank-full.csv\",sep=\";\")\n",
    "banking_c_data.head()"
   ]
  },
  {
   "cell_type": "markdown",
   "metadata": {},
   "source": [
    "参考ですが、以下が属性データです。inputが説明変数となるデータ、outputが目的変数となるデータになりますが、はじめは、目的変数を予測するかどうかは意識しないでおきましょう。"
   ]
  },
  {
   "cell_type": "markdown",
   "metadata": {},
   "source": [
    "-Input variables:\n",
    "- ##### bank client data:\n",
    "1 - age (numeric)   \n",
    "2 - job : type of job (categorical: 'admin.','blue-collar','entrepreneur','housemaid','management','retired','self-employed','services','student','technician','unemployed','unknown')  \n",
    "3 - marital : marital status (categorical: 'divorced','married','single','unknown'; note: 'divorced' means divorced or widowed)  \n",
    "4 - education (categorical:'basic.4y','basic.6y','basic.9y','high.school','illiterate','professional.course','university.degree','unknown')  \n",
    "5 - default: has credit in default? (categorical: 'no','yes','unknown')  \n",
    "6 - housing: has housing loan? (categorical: 'no','yes','unknown')  \n",
    "7 - loan: has personal loan? (categorical: 'no','yes','unknown')  \n",
    "- ##### related with the last contact of the current campaign:   \n",
    "8 - contact: contact communication type (categorical: 'cellular','telephone')   \n",
    "9 - month: last contact month of year (categorical: 'jan', 'feb', 'mar', ..., 'nov', 'dec')  \n",
    "10 - day_of_week: last contact day of the week (categorical: 'mon','tue','wed','thu','fri')  \n",
    "11 - duration: last contact duration, in seconds (numeric). Important note: this attribute highly affects the output target (e.g., if duration=0 then y='no'). Yet, the duration is not known before a call is performed. Also, after the end of the call y is obviously known. Thus, this input should only be included for benchmark purposes and should be discarded if the intention is to have a realistic predictive model.  "
   ]
  },
  {
   "cell_type": "markdown",
   "metadata": {},
   "source": [
    "- ##### other attributes:  \n",
    "12 - campaign: number of contacts performed during this campaign and for this client (numeric, includes last contact)  \n",
    "13 - pdays: number of days that passed by after the client was last contacted from a previous campaign (numeric; 999 means client was not previously contacted)  \n",
    "14 - previous: number of contacts performed before this campaign and for this client (numeric)  \n",
    "15 - poutcome: outcome of the previous marketing campaign (categorical: 'failure','nonexistent','success')  \n",
    "- ##### social and economic context attributes  \n",
    "16 - emp.var.rate: employment variation rate - quarterly indicator (numeric)  \n",
    "17 - cons.price.idx: consumer price index - monthly indicator (numeric)   \n",
    "18 - cons.conf.idx: consumer confidence index - monthly indicator (numeric)   \n",
    "19 - euribor3m: euribor 3 month rate - daily indicator (numeric)  \n",
    "20 - nr.employed: number of employees - quarterly indicator (numeric)  "
   ]
  },
  {
   "cell_type": "markdown",
   "metadata": {},
   "source": [
    "-Output variable (desired target):  \n",
    "21 - y - has the client subscribed a term deposit? (binary: 'yes','no')  "
   ]
  },
  {
   "cell_type": "markdown",
   "metadata": {},
   "source": [
    "以下よりデータは約4.5万レコードあることがわかります。Unknownはありますが、Nullなどはないようです。"
   ]
  },
  {
   "cell_type": "code",
   "execution_count": 9,
   "metadata": {
    "scrolled": true
   },
   "outputs": [
    {
     "name": "stdout",
     "output_type": "stream",
     "text": [
      "<class 'pandas.core.frame.DataFrame'>\n",
      "RangeIndex: 45211 entries, 0 to 45210\n",
      "Data columns (total 17 columns):\n",
      "age          45211 non-null int64\n",
      "job          45211 non-null object\n",
      "marital      45211 non-null object\n",
      "education    45211 non-null object\n",
      "default      45211 non-null object\n",
      "balance      45211 non-null int64\n",
      "housing      45211 non-null object\n",
      "loan         45211 non-null object\n",
      "contact      45211 non-null object\n",
      "day          45211 non-null int64\n",
      "month        45211 non-null object\n",
      "duration     45211 non-null int64\n",
      "campaign     45211 non-null int64\n",
      "pdays        45211 non-null int64\n",
      "previous     45211 non-null int64\n",
      "poutcome     45211 non-null object\n",
      "y            45211 non-null object\n",
      "dtypes: int64(7), object(10)\n",
      "memory usage: 5.9+ MB\n"
     ]
    }
   ],
   "source": [
    "banking_c_data.info()"
   ]
  },
  {
   "cell_type": "markdown",
   "metadata": {},
   "source": [
    "まずは、変数として、age、balance、campaign、previousを使います。"
   ]
  },
  {
   "cell_type": "code",
   "execution_count": 10,
   "metadata": {},
   "outputs": [],
   "source": [
    "banking_c_data_sub=banking_c_data[['age','balance','campaign','previous']]"
   ]
  },
  {
   "cell_type": "markdown",
   "metadata": {},
   "source": [
    "ここで、各変数を見てみると単位もスケールも違うので、教師あり学習でやったスケーリングを同様に実施しましょう。こうすることで大きな変数に引っ張られずに済みます。"
   ]
  },
  {
   "cell_type": "code",
   "execution_count": 12,
   "metadata": {},
   "outputs": [],
   "source": [
    "# 標準化のためのモジュール\n",
    "from sklearn.preprocessing import StandardScaler\n",
    "\n",
    "# 標準化\n",
    "sc = StandardScaler()\n",
    "sc.fit(banking_c_data_sub)\n",
    "banking_c_data_sub_std = sc.transform(banking_c_data_sub)"
   ]
  },
  {
   "cell_type": "markdown",
   "metadata": {},
   "source": [
    "それでは、k-meansを実施します。今回、クラスター数は6にするため、n_clusters=6とします。（クラスターの数を決めるときに、絶対的なルールはありませんが、後でその数を決める方法について述べます。）"
   ]
  },
  {
   "cell_type": "code",
   "execution_count": 13,
   "metadata": {},
   "outputs": [
    {
     "data": {
      "text/plain": [
       "KMeans(algorithm='auto', copy_x=True, init='random', max_iter=300,\n",
       "    n_clusters=6, n_init=10, n_jobs=1, precompute_distances='auto',\n",
       "    random_state=0, tol=0.0001, verbose=0)"
      ]
     },
     "execution_count": 13,
     "metadata": {},
     "output_type": "execute_result"
    }
   ],
   "source": [
    "from sklearn.cluster import KMeans\n",
    "\n",
    "X = banking_c_data_sub_std\n",
    "\n",
    "# random_state固定\n",
    "kmeans = KMeans(init='random',n_clusters=6,random_state=0)\n",
    "kmeans.fit(X)"
   ]
  },
  {
   "cell_type": "markdown",
   "metadata": {},
   "source": [
    "k-meansを実行した後は、そのクラスター番号を取得するため、labels属性を取得しましょう。クラスター番号の列として、cl_nmを定めます。"
   ]
  },
  {
   "cell_type": "code",
   "execution_count": 14,
   "metadata": {},
   "outputs": [],
   "source": [
    "labels = kmeans.labels_\n",
    "label_data = pd.DataFrame(labels,columns=[\"cl_nm\"])"
   ]
  },
  {
   "cell_type": "markdown",
   "metadata": {},
   "source": [
    "ここで、各クラスターに割り当てられた人数を集計してみましょう。"
   ]
  },
  {
   "cell_type": "code",
   "execution_count": 15,
   "metadata": {
    "scrolled": true
   },
   "outputs": [
    {
     "data": {
      "text/plain": [
       "cl_nm\n",
       "0    24509\n",
       "1      221\n",
       "2     2684\n",
       "3     1380\n",
       "4    14734\n",
       "5     1683\n",
       "dtype: int64"
      ]
     },
     "execution_count": 15,
     "metadata": {},
     "output_type": "execute_result"
    }
   ],
   "source": [
    "label_data_bycl = label_data.groupby(\"cl_nm\").size()\n",
    "label_data_bycl"
   ]
  },
  {
   "cell_type": "code",
   "execution_count": 16,
   "metadata": {},
   "outputs": [
    {
     "data": {
      "image/png": "[encoded data removed]",
      "text/plain": [
       "<Figure size 432x288 with 1 Axes>"
      ]
     },
     "metadata": {
      "needs_background": "light"
     },
     "output_type": "display_data"
    }
   ],
   "source": [
    "# 縦棒グラフ\n",
    "plt.bar([0,1,2,3,4,5],label_data_bycl.values)\n",
    "\n",
    "# それぞれのラベル\n",
    "plt.ylabel(\"count\")\n",
    "plt.xlabel(\"cluster num\")\n",
    "\n",
    "# グリッドをつける\n",
    "plt.grid(True)"
   ]
  },
  {
   "cell_type": "markdown",
   "metadata": {},
   "source": [
    "バランスが悪く見えますが、このまま進めます。ここで問題になるのがクラスター数をどれくらいにすれば良いのかということです。先ほどはいきなり6で決め打ちしましたが、ここでは**エルボー法**という手法を用いて、クラスター内の歪みを見ながら決める方法を実施します。クラスターを増やしていくことでクラスター内の歪みは単調に減少しますが、本来ないクラスターを導入した場合は歪みの減少が小さくなることが考えられます。つまりクラスター数を歪みの減少が小さくなる直前に設定することで理想のクラスタ数を得ることができます。歪みの減少が急激に小さくなると、折れ線グラフはひじのような形になるためこのように命名されました。"
   ]
  },
  {
   "cell_type": "markdown",
   "metadata": {},
   "source": [
    "以下では、クラスター数を変えながら、inertia_を取得します。"
   ]
  },
  {
   "cell_type": "code",
   "execution_count": 17,
   "metadata": {},
   "outputs": [],
   "source": [
    "# エルボー法\n",
    "dist_list =[]\n",
    "for i in range(1,20):\n",
    "    kmpp = KMeans(n_clusters=i,init='random',n_init=5,max_iter=100,random_state=0)\n",
    "    kmpp.fit(X)\n",
    "    dist_list.append(kmpp.inertia_)"
   ]
  },
  {
   "cell_type": "markdown",
   "metadata": {},
   "source": [
    "次のグラフはクラスター数を変えながらDistortionの値を見ています。以下の結果は若干微妙ですが、クラスター数が5〜6付近でエルボーのようになっているため、6でも良さそうです。"
   ]
  },
  {
   "cell_type": "code",
   "execution_count": 18,
   "metadata": {
    "scrolled": true
   },
   "outputs": [
    {
     "data": {
      "text/plain": [
       "Text(0, 0.5, 'Distortion')"
      ]
     },
     "execution_count": 18,
     "metadata": {},
     "output_type": "execute_result"
    },
    {
     "data": {
      "image/png": "[encoded data removed]",
      "text/plain": [
       "<Figure size 432x288 with 1 Axes>"
      ]
     },
     "metadata": {
      "needs_background": "light"
     },
     "output_type": "display_data"
    }
   ],
   "source": [
    "plt.plot(range(1,20),dist_list,marker='+')\n",
    "plt.xlabel(\"Number of clusters\")\n",
    "plt.ylabel(\"Distortion\")"
   ]
  },
  {
   "cell_type": "markdown",
   "metadata": {},
   "source": [
    "クラスター数を決定する他の方法として、**シルエット分析(シルエット係数)**などもありますので、興味のある方は参考文献などを見て調べてみてください。"
   ]
  },
  {
   "cell_type": "markdown",
   "metadata": {},
   "source": [
    ">**[やってみよう]**\n",
    "\n",
    ">シルエット分析とはなんでしょうか。調べてみましょう。"
   ]
  },
  {
   "cell_type": "markdown",
   "metadata": {
    "collapsed": true
   },
   "source": [
    "さて、実務的にはこのクラスタリングの結果を解釈していくことが大事になってきますが、ほとんどの機械学習の本にはそこについて触れられていません。クラスタリングはグループ分けをしたら終わりではなく、そこのグループが一体どんなグループなのか、それがわかって次にどんなアクションが取れるのかを求められます。ここでは、その前段階として、クラスタリングをどのように解釈していくか、少し深堀していきましょう。"
   ]
  },
  {
   "cell_type": "markdown",
   "metadata": {
    "collapsed": true
   },
   "source": [
    "まず、先ほどのクラスター番号を、元あったデータに紐づけます。"
   ]
  },
  {
   "cell_type": "code",
   "execution_count": 19,
   "metadata": {},
   "outputs": [],
   "source": [
    "merge_data = pd.concat([banking_c_data,label_data],axis=1)"
   ]
  },
  {
   "cell_type": "code",
   "execution_count": 20,
   "metadata": {},
   "outputs": [
    {
     "data": {
      "text/html": [
       "<div>\n",
       "<style scoped>\n",
       "    .dataframe tbody tr th:only-of-type {\n",
       "        vertical-align: middle;\n",
       "    }\n",
       "\n",
       "    .dataframe tbody tr th {\n",
       "        vertical-align: top;\n",
       "    }\n",
       "\n",
       "    .dataframe thead th {\n",
       "        text-align: right;\n",
       "    }\n",
       "</style>\n",
       "<table border=\"1\" class=\"dataframe\">\n",
       "  <thead>\n",
       "    <tr style=\"text-align: right;\">\n",
       "      <th></th>\n",
       "      <th>age</th>\n",
       "      <th>job</th>\n",
       "      <th>marital</th>\n",
       "      <th>education</th>\n",
       "      <th>default</th>\n",
       "      <th>balance</th>\n",
       "      <th>housing</th>\n",
       "      <th>loan</th>\n",
       "      <th>contact</th>\n",
       "      <th>day</th>\n",
       "      <th>month</th>\n",
       "      <th>duration</th>\n",
       "      <th>campaign</th>\n",
       "      <th>pdays</th>\n",
       "      <th>previous</th>\n",
       "      <th>poutcome</th>\n",
       "      <th>y</th>\n",
       "      <th>cl_nm</th>\n",
       "    </tr>\n",
       "  </thead>\n",
       "  <tbody>\n",
       "    <tr>\n",
       "      <th>0</th>\n",
       "      <td>58</td>\n",
       "      <td>management</td>\n",
       "      <td>married</td>\n",
       "      <td>tertiary</td>\n",
       "      <td>no</td>\n",
       "      <td>2143</td>\n",
       "      <td>yes</td>\n",
       "      <td>no</td>\n",
       "      <td>unknown</td>\n",
       "      <td>5</td>\n",
       "      <td>may</td>\n",
       "      <td>261</td>\n",
       "      <td>1</td>\n",
       "      <td>-1</td>\n",
       "      <td>0</td>\n",
       "      <td>unknown</td>\n",
       "      <td>no</td>\n",
       "      <td>4</td>\n",
       "    </tr>\n",
       "    <tr>\n",
       "      <th>1</th>\n",
       "      <td>44</td>\n",
       "      <td>technician</td>\n",
       "      <td>single</td>\n",
       "      <td>secondary</td>\n",
       "      <td>no</td>\n",
       "      <td>29</td>\n",
       "      <td>yes</td>\n",
       "      <td>no</td>\n",
       "      <td>unknown</td>\n",
       "      <td>5</td>\n",
       "      <td>may</td>\n",
       "      <td>151</td>\n",
       "      <td>1</td>\n",
       "      <td>-1</td>\n",
       "      <td>0</td>\n",
       "      <td>unknown</td>\n",
       "      <td>no</td>\n",
       "      <td>4</td>\n",
       "    </tr>\n",
       "    <tr>\n",
       "      <th>2</th>\n",
       "      <td>33</td>\n",
       "      <td>entrepreneur</td>\n",
       "      <td>married</td>\n",
       "      <td>secondary</td>\n",
       "      <td>no</td>\n",
       "      <td>2</td>\n",
       "      <td>yes</td>\n",
       "      <td>yes</td>\n",
       "      <td>unknown</td>\n",
       "      <td>5</td>\n",
       "      <td>may</td>\n",
       "      <td>76</td>\n",
       "      <td>1</td>\n",
       "      <td>-1</td>\n",
       "      <td>0</td>\n",
       "      <td>unknown</td>\n",
       "      <td>no</td>\n",
       "      <td>0</td>\n",
       "    </tr>\n",
       "  </tbody>\n",
       "</table>\n",
       "</div>"
      ],
      "text/plain": [
       "   age           job  marital  education default  balance housing loan  \\\n",
       "0   58    management  married   tertiary      no     2143     yes   no   \n",
       "1   44    technician   single  secondary      no       29     yes   no   \n",
       "2   33  entrepreneur  married  secondary      no        2     yes  yes   \n",
       "\n",
       "   contact  day month  duration  campaign  pdays  previous poutcome   y  cl_nm  \n",
       "0  unknown    5   may       261         1     -1         0  unknown  no      4  \n",
       "1  unknown    5   may       151         1     -1         0  unknown  no      4  \n",
       "2  unknown    5   may        76         1     -1         0  unknown  no      0  "
      ]
     },
     "execution_count": 20,
     "metadata": {},
     "output_type": "execute_result"
    }
   ],
   "source": [
    "merge_data.head(3)"
   ]
  },
  {
   "cell_type": "markdown",
   "metadata": {
    "collapsed": true
   },
   "source": [
    "次に、例えば、クラスターのそれぞれの年齢層はどうなるかということが気になると思います。以下は、pandasで学んだ分割と、ピボットテーブルを使います。軸はクラスター番号と、年齢です。年齢は基本的に15歳から5歳区切りで、最後は65歳以上100歳未満で区切っています。このようなところでもpandasで学んだテクニックが使えます。"
   ]
  },
  {
   "cell_type": "code",
   "execution_count": 21,
   "metadata": {},
   "outputs": [
    {
     "data": {
      "text/plain": [
       "[30, 35)     9740\n",
       "[35, 40)     8349\n",
       "[40, 45)     6185\n",
       "[45, 50)     5470\n",
       "[50, 55)     4488\n",
       "[25, 30)     4464\n",
       "[55, 60)     3922\n",
       "[60, 65)      974\n",
       "[65, 100)     810\n",
       "[20, 25)      762\n",
       "[15, 20)       47\n",
       "Name: age, dtype: int64"
      ]
     },
     "execution_count": 21,
     "metadata": {},
     "output_type": "execute_result"
    }
   ],
   "source": [
    "#　分割の粒度\n",
    "absences_bins = [15,20,25,30,35,40,45,50,55,60,65,100]\n",
    "qcut_result = pd.cut(merge_data.age,absences_bins,right=False)\n",
    "value_qcut_result = pd.value_counts(qcut_result)\n",
    "value_qcut_result"
   ]
  },
  {
   "cell_type": "code",
   "execution_count": 22,
   "metadata": {},
   "outputs": [],
   "source": [
    "merge_data_age_cl = pd.concat([merge_data.cl_nm,qcut_result],axis=1)"
   ]
  },
  {
   "cell_type": "markdown",
   "metadata": {},
   "source": [
    "以下の表はクロス表になります。（行がクラスター番号、列が年齢区切りです。）"
   ]
  },
  {
   "cell_type": "code",
   "execution_count": 23,
   "metadata": {
    "scrolled": true
   },
   "outputs": [
    {
     "data": {
      "text/html": [
       "<div>\n",
       "<style scoped>\n",
       "    .dataframe tbody tr th:only-of-type {\n",
       "        vertical-align: middle;\n",
       "    }\n",
       "\n",
       "    .dataframe tbody tr th {\n",
       "        vertical-align: top;\n",
       "    }\n",
       "\n",
       "    .dataframe thead th {\n",
       "        text-align: right;\n",
       "    }\n",
       "</style>\n",
       "<table border=\"1\" class=\"dataframe\">\n",
       "  <thead>\n",
       "    <tr style=\"text-align: right;\">\n",
       "      <th>age</th>\n",
       "      <th>[15, 20)</th>\n",
       "      <th>[20, 25)</th>\n",
       "      <th>[25, 30)</th>\n",
       "      <th>[30, 35)</th>\n",
       "      <th>[35, 40)</th>\n",
       "      <th>[40, 45)</th>\n",
       "      <th>[45, 50)</th>\n",
       "      <th>[50, 55)</th>\n",
       "      <th>[55, 60)</th>\n",
       "      <th>[60, 65)</th>\n",
       "      <th>[65, 100)</th>\n",
       "    </tr>\n",
       "    <tr>\n",
       "      <th>cl_nm</th>\n",
       "      <th></th>\n",
       "      <th></th>\n",
       "      <th></th>\n",
       "      <th></th>\n",
       "      <th></th>\n",
       "      <th></th>\n",
       "      <th></th>\n",
       "      <th></th>\n",
       "      <th></th>\n",
       "      <th></th>\n",
       "      <th></th>\n",
       "    </tr>\n",
       "  </thead>\n",
       "  <tbody>\n",
       "    <tr>\n",
       "      <th>0</th>\n",
       "      <td>45</td>\n",
       "      <td>711</td>\n",
       "      <td>4024</td>\n",
       "      <td>8492</td>\n",
       "      <td>7146</td>\n",
       "      <td>4091</td>\n",
       "      <td>0</td>\n",
       "      <td>0</td>\n",
       "      <td>0</td>\n",
       "      <td>0</td>\n",
       "      <td>0</td>\n",
       "    </tr>\n",
       "    <tr>\n",
       "      <th>1</th>\n",
       "      <td>0</td>\n",
       "      <td>3</td>\n",
       "      <td>10</td>\n",
       "      <td>37</td>\n",
       "      <td>25</td>\n",
       "      <td>26</td>\n",
       "      <td>27</td>\n",
       "      <td>30</td>\n",
       "      <td>38</td>\n",
       "      <td>11</td>\n",
       "      <td>14</td>\n",
       "    </tr>\n",
       "    <tr>\n",
       "      <th>2</th>\n",
       "      <td>0</td>\n",
       "      <td>14</td>\n",
       "      <td>152</td>\n",
       "      <td>497</td>\n",
       "      <td>517</td>\n",
       "      <td>460</td>\n",
       "      <td>375</td>\n",
       "      <td>306</td>\n",
       "      <td>263</td>\n",
       "      <td>63</td>\n",
       "      <td>37</td>\n",
       "    </tr>\n",
       "    <tr>\n",
       "      <th>3</th>\n",
       "      <td>0</td>\n",
       "      <td>20</td>\n",
       "      <td>132</td>\n",
       "      <td>327</td>\n",
       "      <td>308</td>\n",
       "      <td>187</td>\n",
       "      <td>146</td>\n",
       "      <td>117</td>\n",
       "      <td>71</td>\n",
       "      <td>38</td>\n",
       "      <td>34</td>\n",
       "    </tr>\n",
       "    <tr>\n",
       "      <th>4</th>\n",
       "      <td>0</td>\n",
       "      <td>0</td>\n",
       "      <td>0</td>\n",
       "      <td>0</td>\n",
       "      <td>0</td>\n",
       "      <td>1155</td>\n",
       "      <td>4701</td>\n",
       "      <td>3885</td>\n",
       "      <td>3436</td>\n",
       "      <td>838</td>\n",
       "      <td>719</td>\n",
       "    </tr>\n",
       "    <tr>\n",
       "      <th>5</th>\n",
       "      <td>2</td>\n",
       "      <td>14</td>\n",
       "      <td>146</td>\n",
       "      <td>387</td>\n",
       "      <td>353</td>\n",
       "      <td>266</td>\n",
       "      <td>221</td>\n",
       "      <td>150</td>\n",
       "      <td>114</td>\n",
       "      <td>24</td>\n",
       "      <td>6</td>\n",
       "    </tr>\n",
       "  </tbody>\n",
       "</table>\n",
       "</div>"
      ],
      "text/plain": [
       "age    [15, 20)  [20, 25)  [25, 30)  [30, 35)  [35, 40)  [40, 45)  [45, 50)  \\\n",
       "cl_nm                                                                         \n",
       "0            45       711      4024      8492      7146      4091         0   \n",
       "1             0         3        10        37        25        26        27   \n",
       "2             0        14       152       497       517       460       375   \n",
       "3             0        20       132       327       308       187       146   \n",
       "4             0         0         0         0         0      1155      4701   \n",
       "5             2        14       146       387       353       266       221   \n",
       "\n",
       "age    [50, 55)  [55, 60)  [60, 65)  [65, 100)  \n",
       "cl_nm                                           \n",
       "0             0         0         0          0  \n",
       "1            30        38        11         14  \n",
       "2           306       263        63         37  \n",
       "3           117        71        38         34  \n",
       "4          3885      3436       838        719  \n",
       "5           150       114        24          6  "
      ]
     },
     "execution_count": 23,
     "metadata": {},
     "output_type": "execute_result"
    }
   ],
   "source": [
    "cluster_num_age_cross_tb = pd.pivot_table(merge_data_age_cl\n",
    "                                          , index=['cl_nm'], columns=['age'],aggfunc=lambda x : len(x)\n",
    "                                          ,fill_value = 0) \n",
    "cluster_num_age_cross_tb"
   ]
  },
  {
   "cell_type": "markdown",
   "metadata": {
    "collapsed": true
   },
   "source": [
    "ただ、人数だけではわからないので、上の表をベースに、クラスター内においてどの年齢層の割合を計算して、グラフ化しているのが以下になります。"
   ]
  },
  {
   "cell_type": "code",
   "execution_count": 24,
   "metadata": {},
   "outputs": [
    {
     "data": {
      "text/plain": [
       "<matplotlib.axes._subplots.AxesSubplot at 0x7f21d4b8ee80>"
      ]
     },
     "execution_count": 24,
     "metadata": {},
     "output_type": "execute_result"
    },
    {
     "data": {
      "image/png": "[encoded data removed]",
      "text/plain": [
       "<Figure size 432x288 with 2 Axes>"
      ]
     },
     "metadata": {
      "needs_background": "light"
     },
     "output_type": "display_data"
    }
   ],
   "source": [
    "sns.heatmap(cluster_num_age_cross_tb.apply(lambda x : x/sum(x), axis=1),cmap=\"Blues\")"
   ]
  },
  {
   "cell_type": "markdown",
   "metadata": {
    "collapsed": true
   },
   "source": [
    "上記を見ていると、クラスター番号0の年齢層が30-40前後で固まっている一方で、クラスター番号4は45-50前後に固まっていることがわかります。"
   ]
  },
  {
   "cell_type": "markdown",
   "metadata": {
    "collapsed": true
   },
   "source": [
    "次は、jobについて見てみましょう。"
   ]
  },
  {
   "cell_type": "code",
   "execution_count": 25,
   "metadata": {},
   "outputs": [],
   "source": [
    "merge_data_job_cl = merge_data[['cl_nm','job']]"
   ]
  },
  {
   "cell_type": "code",
   "execution_count": 26,
   "metadata": {},
   "outputs": [
    {
     "data": {
      "text/html": [
       "<div>\n",
       "<style scoped>\n",
       "    .dataframe tbody tr th:only-of-type {\n",
       "        vertical-align: middle;\n",
       "    }\n",
       "\n",
       "    .dataframe tbody tr th {\n",
       "        vertical-align: top;\n",
       "    }\n",
       "\n",
       "    .dataframe thead th {\n",
       "        text-align: right;\n",
       "    }\n",
       "</style>\n",
       "<table border=\"1\" class=\"dataframe\">\n",
       "  <thead>\n",
       "    <tr style=\"text-align: right;\">\n",
       "      <th>job</th>\n",
       "      <th>admin.</th>\n",
       "      <th>blue-collar</th>\n",
       "      <th>entrepreneur</th>\n",
       "      <th>housemaid</th>\n",
       "      <th>management</th>\n",
       "      <th>retired</th>\n",
       "      <th>self-employed</th>\n",
       "      <th>services</th>\n",
       "      <th>student</th>\n",
       "      <th>technician</th>\n",
       "      <th>unemployed</th>\n",
       "      <th>unknown</th>\n",
       "    </tr>\n",
       "    <tr>\n",
       "      <th>cl_nm</th>\n",
       "      <th></th>\n",
       "      <th></th>\n",
       "      <th></th>\n",
       "      <th></th>\n",
       "      <th></th>\n",
       "      <th></th>\n",
       "      <th></th>\n",
       "      <th></th>\n",
       "      <th></th>\n",
       "      <th></th>\n",
       "      <th></th>\n",
       "      <th></th>\n",
       "    </tr>\n",
       "  </thead>\n",
       "  <tbody>\n",
       "    <tr>\n",
       "      <th>0</th>\n",
       "      <td>3097</td>\n",
       "      <td>5610</td>\n",
       "      <td>728</td>\n",
       "      <td>426</td>\n",
       "      <td>5130</td>\n",
       "      <td>57</td>\n",
       "      <td>852</td>\n",
       "      <td>2564</td>\n",
       "      <td>813</td>\n",
       "      <td>4459</td>\n",
       "      <td>698</td>\n",
       "      <td>75</td>\n",
       "    </tr>\n",
       "    <tr>\n",
       "      <th>1</th>\n",
       "      <td>15</td>\n",
       "      <td>12</td>\n",
       "      <td>19</td>\n",
       "      <td>7</td>\n",
       "      <td>91</td>\n",
       "      <td>24</td>\n",
       "      <td>11</td>\n",
       "      <td>9</td>\n",
       "      <td>3</td>\n",
       "      <td>21</td>\n",
       "      <td>6</td>\n",
       "      <td>3</td>\n",
       "    </tr>\n",
       "    <tr>\n",
       "      <th>2</th>\n",
       "      <td>219</td>\n",
       "      <td>459</td>\n",
       "      <td>91</td>\n",
       "      <td>70</td>\n",
       "      <td>788</td>\n",
       "      <td>111</td>\n",
       "      <td>130</td>\n",
       "      <td>189</td>\n",
       "      <td>48</td>\n",
       "      <td>460</td>\n",
       "      <td>99</td>\n",
       "      <td>20</td>\n",
       "    </tr>\n",
       "    <tr>\n",
       "      <th>3</th>\n",
       "      <td>196</td>\n",
       "      <td>244</td>\n",
       "      <td>42</td>\n",
       "      <td>22</td>\n",
       "      <td>332</td>\n",
       "      <td>53</td>\n",
       "      <td>41</td>\n",
       "      <td>112</td>\n",
       "      <td>52</td>\n",
       "      <td>250</td>\n",
       "      <td>31</td>\n",
       "      <td>5</td>\n",
       "    </tr>\n",
       "    <tr>\n",
       "      <th>4</th>\n",
       "      <td>1467</td>\n",
       "      <td>3040</td>\n",
       "      <td>543</td>\n",
       "      <td>675</td>\n",
       "      <td>2732</td>\n",
       "      <td>1984</td>\n",
       "      <td>479</td>\n",
       "      <td>1124</td>\n",
       "      <td>4</td>\n",
       "      <td>2084</td>\n",
       "      <td>439</td>\n",
       "      <td>163</td>\n",
       "    </tr>\n",
       "    <tr>\n",
       "      <th>5</th>\n",
       "      <td>177</td>\n",
       "      <td>367</td>\n",
       "      <td>64</td>\n",
       "      <td>40</td>\n",
       "      <td>385</td>\n",
       "      <td>35</td>\n",
       "      <td>66</td>\n",
       "      <td>156</td>\n",
       "      <td>18</td>\n",
       "      <td>323</td>\n",
       "      <td>30</td>\n",
       "      <td>22</td>\n",
       "    </tr>\n",
       "  </tbody>\n",
       "</table>\n",
       "</div>"
      ],
      "text/plain": [
       "job    admin.  blue-collar  entrepreneur  housemaid  management  retired  \\\n",
       "cl_nm                                                                      \n",
       "0        3097         5610           728        426        5130       57   \n",
       "1          15           12            19          7          91       24   \n",
       "2         219          459            91         70         788      111   \n",
       "3         196          244            42         22         332       53   \n",
       "4        1467         3040           543        675        2732     1984   \n",
       "5         177          367            64         40         385       35   \n",
       "\n",
       "job    self-employed  services  student  technician  unemployed  unknown  \n",
       "cl_nm                                                                     \n",
       "0                852      2564      813        4459         698       75  \n",
       "1                 11         9        3          21           6        3  \n",
       "2                130       189       48         460          99       20  \n",
       "3                 41       112       52         250          31        5  \n",
       "4                479      1124        4        2084         439      163  \n",
       "5                 66       156       18         323          30       22  "
      ]
     },
     "execution_count": 26,
     "metadata": {},
     "output_type": "execute_result"
    }
   ],
   "source": [
    "cluster_num_job_cross_tb = pd.pivot_table(merge_data_job_cl\n",
    "                                          , index=['cl_nm'], columns=['job'],aggfunc=lambda x : len(x)\n",
    "                                          ,fill_value = 0) \n",
    "cluster_num_job_cross_tb"
   ]
  },
  {
   "cell_type": "code",
   "execution_count": 27,
   "metadata": {},
   "outputs": [
    {
     "data": {
      "text/plain": [
       "<matplotlib.axes._subplots.AxesSubplot at 0x7f21d38cfeb8>"
      ]
     },
     "execution_count": 27,
     "metadata": {},
     "output_type": "execute_result"
    },
    {
     "data": {
      "image/png": "[encoded data removed]",
      "text/plain": [
       "<Figure size 432x288 with 2 Axes>"
      ]
     },
     "metadata": {
      "needs_background": "light"
     },
     "output_type": "display_data"
    }
   ],
   "source": [
    "sns.heatmap(cluster_num_job_cross_tb.apply(lambda x : x/sum(x), axis=1),cmap=\"Reds\")"
   ]
  },
  {
   "cell_type": "markdown",
   "metadata": {
    "collapsed": true
   },
   "source": [
    "上記を見ていると、クラスター番号1が特にマネジメント層の割合が多いのがわかります。一方、クラスタ番号0や4、5はブルーカラー割合が若干多いようです。\n",
    "\n",
    "まだ他の軸を見る必要などありますが、例えばクラスターの解釈として、クラスター番号0は年齢が30〜40歳が多くブルーカラーの人が多いなどわかってきていますので、ある程度どんな人物なのか浮かび上がってきます（クラスター分析はユーザーの人物像を描くための**ペルソナ分析**にも使われたりします。）。このようにクラスタリングを実施し、顧客を色々な視点からセグメンテーションすることで、そのグループにあった提案やサービス戦略を考える材料になります。\n",
    "\n",
    "以上で、教師なし学習のクラスタリングは終わりです。なお今回のクラスタリングは、**非階層型**といわれるクラスタリングを実施してきました。他、**階層型**のクラスタリングもあります。階層型は計算はsklearn.clusterのAgglomerativeClusteringを使います。ここでは詳細は述べませんが、興味のある方は参考文献などをみてください。実務的には、階層型のクラスタリングの方が理解しやすいかもしれません。\n",
    "\n",
    "他には確率的にグループ所属を決める**ソフトクラスタリング**があります。今までのアプローチは**ハードクラスタリング**といい、それぞれのユーザーに付くクラスター番号は一意でしたが、ソフトクラスタリングは確率的にグループに属するという考え方です。これは現実にも考えられることで、ある人はグループ1にも属するかもしれないしグループ2に属するかもしれないので、それぞれのグループに所属する確率を求めることは理にかなっていると言えます。これもここでは実装しませんが、興味がある方はぜひ調べてみてください。"
   ]
  },
  {
   "cell_type": "markdown",
   "metadata": {},
   "source": [
    ">**[やってみよう]**\n",
    "\n",
    ">上の階層型、非階層型のクラスタリングについて調べてみましょう。また、ソフトクラスタリングやハードクラスタリングの違いやそのアプローチについて調べて、実装してみましょう。"
   ]
  },
  {
   "cell_type": "markdown",
   "metadata": {},
   "source": [
    "####  <練習問題 1>\n",
    "先ほど扱ったmake_blobsデータに対して、random_state=52にしてデータをグラフ化してみましょう。そこからクラスター分析をしてください。いくつのグループに分けますか。また分けた後は、クラスター番号がわかるように色分けして、グラフ化してください。"
   ]
  },
  {
   "cell_type": "markdown",
   "metadata": {},
   "source": [
    "####  <練習問題 2>\n",
    "先ほど扱ったデータbanking_c_data_subに対して、クラスター数を4にしてクラスター分析を実行した場合(k-means)に、どのような結果になりますか？先ほどと同じようにクラスター番号を取得した後は、それぞれのクラスターがどのようなグループになっているか深堀分析をして、それぞれのグループのペルソナ（顧客像）を考えましょう。またクラスター数を8にした場合はどうでしょうか。さらに、age、balance、campaign、previous以外の変数を選んだ場合はどうでしょうか。使う変数を選んで、同じようにクラスター分析を実行して、その結果を深掘りし、考察してください。"
   ]
  },
  {
   "cell_type": "markdown",
   "metadata": {},
   "source": [
    "## 12.2 次元圧縮（主成分分析）\n",
    "キーワード：PCA"
   ]
  },
  {
   "cell_type": "markdown",
   "metadata": {},
   "source": [
    "次は、次元圧縮です。教師あり学習（判別分析）もありますが、ここでは教師なし次元圧縮の主成分分析について学びましょう。"
   ]
  },
  {
   "cell_type": "markdown",
   "metadata": {},
   "source": [
    "これまで見てきた通り、データには様々な種類があります。例えば先ほどの金融マーケティングのデータでは、職業だったり、年齢など色々な変数がありました。これらの変数と目的変数との関係性を1つ1つ見ていくことも大切ですが、人の目では確認できない量だったり、それぞれの変数間の関係性なども考慮してみるとなると、どのように見ていけばいいのかわからなくなることもあるでしょう。ここで、主成分分析を実施することで、データの情報をできるだけ失わずに、データを圧縮する（変数の種類を減らす）ことができます。要は、たくさん変数がある場合に、それらの情報をなるべく落とさないようにして、扱う変数を減らすのが次元圧縮です。\n",
    "\n",
    "まずは、簡単なサンプルデータからその方法を見てみましょう。以下は、2変数のデータ（乱数、シード固定）をプロットした図です。"
   ]
  },
  {
   "cell_type": "code",
   "execution_count": 28,
   "metadata": {
    "scrolled": false
   },
   "outputs": [
    {
     "data": {
      "text/plain": [
       "<matplotlib.collections.PathCollection at 0x7f21d37d6e80>"
      ]
     },
     "execution_count": 28,
     "metadata": {},
     "output_type": "execute_result"
    },
    {
     "data": {
      "image/png": "[encoded data removed]",
      "text/plain": [
       "<Figure size 432x288 with 1 Axes>"
      ]
     },
     "metadata": {
      "needs_background": "light"
     },
     "output_type": "display_data"
    }
   ],
   "source": [
    "rng_data = np.random.RandomState(1)\n",
    "X = np.dot(rng_data.rand(2, 2), rng_data.randn(2, 200)).T\n",
    "plt.scatter(X[:, 0], X[:, 1])"
   ]
  },
  {
   "cell_type": "markdown",
   "metadata": {},
   "source": [
    "主成分分析はfrom sklearn.decomposition import PCAとして、以下ではパラメータ（作成する主成分/Principal Componentの数）を2に設定しています。次元圧縮なので、通常は元の変数の数より小さい値を設定しますが、ここでは手法の説明のため2とします。\n",
    "\n",
    "pca.fit()でPCAの計算を実施しています。"
   ]
  },
  {
   "cell_type": "code",
   "execution_count": 29,
   "metadata": {},
   "outputs": [
    {
     "data": {
      "text/plain": [
       "PCA(copy=True, iterated_power='auto', n_components=2, random_state=None,\n",
       "  svd_solver='auto', tol=0.0, whiten=False)"
      ]
     },
     "execution_count": 29,
     "metadata": {},
     "output_type": "execute_result"
    }
   ],
   "source": [
    "from sklearn.decomposition import PCA\n",
    "\n",
    "pca = PCA(n_components=2)\n",
    "pca.fit(X)"
   ]
  },
  {
   "cell_type": "markdown",
   "metadata": {},
   "source": [
    "以下は、その実際の計算結果になります。2つ取り出されているのがわかります。"
   ]
  },
  {
   "cell_type": "code",
   "execution_count": 30,
   "metadata": {},
   "outputs": [
    {
     "name": "stdout",
     "output_type": "stream",
     "text": [
      "[[-0.944 -0.329]\n",
      " [-0.329  0.944]]\n",
      "[ 0.763  0.018]\n"
     ]
    }
   ],
   "source": [
    "print(pca.components_)\n",
    "print(pca.explained_variance_)"
   ]
  },
  {
   "cell_type": "markdown",
   "metadata": {},
   "source": [
    "数字だけではわかりにくいので、図示してみましょう。以下の矢印が主成分分析の結果の数値になります。分散が最大になるように、お互いに直角になるようにしています。元のグラフについて、新しく軸を設定するイメージです。"
   ]
  },
  {
   "cell_type": "code",
   "execution_count": 31,
   "metadata": {
    "scrolled": true
   },
   "outputs": [
    {
     "data": {
      "image/png": "[encoded data removed]",
      "text/plain": [
       "<Figure size 432x288 with 1 Axes>"
      ]
     },
     "metadata": {
      "needs_background": "light"
     },
     "output_type": "display_data"
    }
   ],
   "source": [
    "# パラメータ設定\n",
    "arrowprops=dict(arrowstyle='->',\n",
    "                linewidth=2,\n",
    "                shrinkA=0, \n",
    "                shrinkB=0)\n",
    "\n",
    "# 矢印を描くための関数\n",
    "def draw_vector(v0, v1, ax=None):\n",
    "    plt.gca().annotate('', v1, v0, arrowprops=arrowprops)\n",
    "\n",
    "# 元のデータをプロット\n",
    "plt.scatter(X[:, 0], X[:, 1], alpha=0.2)\n",
    "\n",
    "# 主成分分析の2軸を矢印で表示する\n",
    "for length, vector in zip(pca.explained_variance_, pca.components_):\n",
    "    v = vector * 3 * np.sqrt(length)\n",
    "    draw_vector(pca.mean_, pca.mean_ + v)\n",
    "\n",
    "plt.axis('equal');"
   ]
  },
  {
   "cell_type": "markdown",
   "metadata": {
    "collapsed": true
   },
   "source": [
    ">[参照URL]  \n",
    "\n",
    ">https://github.com/jakevdp/PythonDataScienceHandbook"
   ]
  },
  {
   "cell_type": "markdown",
   "metadata": {},
   "source": [
    "図を見て分かるとおり、元の散布図に対して分散が最大になるよう第1成分が作成され、それに直交する形で第2成分が作成されます。元の各点から第1成分に垂線を下ろした点を考えると、元の2変数が1変数に次元削除されたことになります。\n",
    "\n",
    "ちなみに、詳細な説明は省きますが、途中の計算には線形代数における固有値や固有ベクトルの概念を使います。この講座でもScipyなどを使って固有値の計算等を扱いました。これらを理解すると、機械学習を勉強していくうえで後々便利でしょう。"
   ]
  },
  {
   "cell_type": "markdown",
   "metadata": {},
   "source": [
    "もう少し、次元圧縮のイメージを理解するために例を見ていきましょう。以下の参照図は3Dで見たときのグラフで、それぞれのプロットで色が分けられています。この3次元のデータを、持っている情報をなるべく落とさずに、圧縮します。"
   ]
  },
  {
   "cell_type": "markdown",
   "metadata": {},
   "source": [
    "![](https://sebastianraschka.com/images/blog/2014/kernel_pca/2014-09-14-kernel_pca_87_0.png)\n",
    "参照URL:http://sebastianraschka.com/Articles/2014_kernel_pca.html"
   ]
  },
  {
   "cell_type": "markdown",
   "metadata": {},
   "source": [
    "先ほどの3次元データを圧縮して2次元に減らすと、次のグラフのようになります。PC1が第1主成分、PC2が第2主成分の値となります。"
   ]
  },
  {
   "cell_type": "markdown",
   "metadata": {},
   "source": [
    "![](https://sebastianraschka.com/images/blog/2014/kernel_pca/2014-09-14-kernel_pca_91_0.png)\n",
    "参照URL:http://sebastianraschka.com/Articles/2014_kernel_pca.html"
   ]
  },
  {
   "cell_type": "markdown",
   "metadata": {},
   "source": [
    "上のような図を見ていただくとわかる通り、それぞれの色もある程度かたまって、それぞれの点が2次元のグラフで表現されています。"
   ]
  },
  {
   "cell_type": "markdown",
   "metadata": {},
   "source": [
    "さて、主成分分析の概念とイメージは、上記のようになります。では、この主成分分析を使って次元を圧縮することで、具体的にどのような場面で役に立つのでしょうか。確かに、情報は落とさずに次元を減らすと、データとして扱いやすくはなりそうです。そこで以前問題で扱ったcancerデータを使って、主成分分析の有用性を見ていただくことにします。\n",
    "\n",
    "以下は、cancerの目的変数（cancer.target）において、malignant（悪性）とbenign（良性）がそれぞれの属性でどのような分布になっているかのヒストグラムです。ほとんどのグラフについては、malignantとbenignのデータが重なっており、このままですと、悪性か良性かを見分けるのにどこに境界線（境界値）を引いていいのか難しい状況です。"
   ]
  },
  {
   "cell_type": "code",
   "execution_count": 32,
   "metadata": {},
   "outputs": [
    {
     "data": {
      "image/png": "[encoded data removed]",
      "text/plain": [
       "<Figure size 1440x1440 with 30 Axes>"
      ]
     },
     "metadata": {
      "needs_background": "light"
     },
     "output_type": "display_data"
    }
   ],
   "source": [
    "from sklearn.datasets import load_breast_cancer\n",
    "\n",
    "# ガンのデータ\n",
    "cancer = load_breast_cancer()\n",
    "\n",
    "# 悪性\n",
    "malignant = cancer.data[cancer.target==0]\n",
    "\n",
    "# 良性\n",
    "benign = cancer.data[cancer.target==1]\n",
    "\n",
    "# グラフを分割するための準備\n",
    "fig, axes = plt.subplots(6,5,figsize=(20,20))\n",
    "ax = axes.ravel()\n",
    "for i in range(30):\n",
    "    _,bins = np.histogram(cancer.data[:,i],bins=50)\n",
    "    ax[i].hist(malignant[:,i],bins=bins,alpha=.5)\n",
    "    ax[i].hist(benign[:,i],bins=bins,alpha=.5)\n",
    "    ax[i].set_title(cancer.feature_names[i])\n",
    "    ax[i].set_yticks(())\n",
    "    \n",
    "# ラベルの設定\n",
    "ax[0].set_ylabel(\"Count\")\n",
    "ax[0].legend([\"malignant\",\"benign\"],loc=\"best\")\n",
    "fig.tight_layout()"
   ]
  },
  {
   "cell_type": "markdown",
   "metadata": {
    "collapsed": true
   },
   "source": [
    ">[参照文献]  \n",
    "\n",
    ">『Introduction to Machine Learning with Python』（Andreas C.Muller & Sarah Guido、O'REILLY）"
   ]
  },
  {
   "cell_type": "markdown",
   "metadata": {},
   "source": [
    "ここで主成分分析を使って、これらの20個以上ある変数を凝縮してみることにします。まずは、説明変数となるデータのみ対象として、データのスケーリングを実施し、主成分分析をかけます。目的変数はない状態での分析になりますので、もちろん教師なし学習のアプローチです。これらのデータには答え（悪性か良性かのデータ）は入っていません。\n",
    "\n",
    "作成する成分数（n_component）は2としておきます。たくさんある変数を2つの変数に凝縮します。"
   ]
  },
  {
   "cell_type": "code",
   "execution_count": 33,
   "metadata": {},
   "outputs": [],
   "source": [
    "# 標準化のためのモジュール\n",
    "from sklearn.preprocessing import StandardScaler\n",
    "\n",
    "# 対象データ\n",
    "from sklearn.datasets import load_breast_cancer\n",
    "\n",
    "# PCA\n",
    "from sklearn.decomposition import PCA\n",
    "\n",
    "cancer = load_breast_cancer()\n",
    "\n",
    "sc = StandardScaler()\n",
    "sc.fit(cancer.data)\n",
    "X_scaled = sc.transform(cancer.data)\n",
    "\n",
    "pca = PCA(n_components=2)\n",
    "pca.fit(X_scaled)\n",
    "X_pca = pca.transform(X_scaled)"
   ]
  },
  {
   "cell_type": "markdown",
   "metadata": {},
   "source": [
    "上記で、第1成分と第2成分のデータが生成されましたので、次にそれらに対応する目的変数（cancer.targetにあり悪性か良性か）のデータフレームワークをくっつけて、データを作成してみましょう。"
   ]
  },
  {
   "cell_type": "code",
   "execution_count": 34,
   "metadata": {},
   "outputs": [],
   "source": [
    "# 第1成分と第2成分、ターゲット変数をマージする\n",
    "merge_data = pd.concat([pd.DataFrame(X_pca[:,0]),pd.DataFrame(X_pca[:,1]),pd.DataFrame(cancer.target)]\n",
    "                       ,axis=1)\n",
    "merge_data.columns = [\"first\",\"second\",\"target\"]"
   ]
  },
  {
   "cell_type": "code",
   "execution_count": 35,
   "metadata": {},
   "outputs": [],
   "source": [
    "# 悪性、良性を分ける\n",
    "merge_data_malignant = merge_data[merge_data[\"target\"]==0]\n",
    "merge_data_benign = merge_data[merge_data[\"target\"]==1]"
   ]
  },
  {
   "cell_type": "markdown",
   "metadata": {},
   "source": [
    "次にこのデータをプロットして、ラベルとして赤がmalignant（悪性）、青がbenign（良性）とすると、以下のような図になります。"
   ]
  },
  {
   "cell_type": "code",
   "execution_count": 36,
   "metadata": {
    "scrolled": true
   },
   "outputs": [
    {
     "data": {
      "image/png": "[encoded data removed]",
      "text/plain": [
       "<Figure size 432x288 with 1 Axes>"
      ]
     },
     "metadata": {
      "needs_background": "light"
     },
     "output_type": "display_data"
    }
   ],
   "source": [
    "ax =merge_data_malignant.plot.scatter(x='first', y='second', color='red', label='malignant');\n",
    "merge_data_benign.plot.scatter(x='first', y='second', color='blue', label='benign',ax=ax);"
   ]
  },
  {
   "cell_type": "markdown",
   "metadata": {},
   "source": [
    "いかがでしょうか。良性と悪性がほぼきれいに分かれていることがわかります。データを圧縮するときには、特に答えは教えていません（良性か悪性かのデータを入れていません）でした。データの変数が多くて、どの変数を選んだらいいかわからない場合は、この主成分分析をしてみるのも良いでしょう。"
   ]
  },
  {
   "cell_type": "markdown",
   "metadata": {},
   "source": [
    "####  <練習問題 1>\n",
    "前章の機械学習（教師あり学習）の総合問題でも扱ったsklearnのdatasetsからload_iris(アヤメの花)を読み込んで、iris.dataを対象にPCA（n_componentsは2）を実行してください。またPCAの第2成分までのデータと、目的変数（iris.target）との関係性はどうでしょうか。グラフ化してみるなどして、考察してください。"
   ]
  },
  {
   "cell_type": "markdown",
   "metadata": {},
   "source": [
    "## 12.3 バスケット分析とアソシエーションルール\n",
    "キーワード：アソシエーションルール、支持度、確信度、リフト値"
   ]
  },
  {
   "cell_type": "markdown",
   "metadata": {},
   "source": [
    "さて、次の教師なしの例は、購買データを対象とした分析手法です。\n",
    "\n",
    "データベースの章でも購買データの集計を実施しました。購買データは、コンビニやスーパーマーケットなどのレジで収集される消費者行動のデータですが、よく例として取り上げられるのが、オムツとビールの購買の組み合わせです。ある家族のお父さんがオムツを買うときについでにビールを買うという話だったり、これは都市伝説だという指摘もありますが、消費者がどんな商品の組み合わせで買うのかは、消費財メーカーもスーパーなどのリテールも関心が高い問題です。"
   ]
  },
  {
   "cell_type": "markdown",
   "metadata": {},
   "source": [
    "ここでは、以前、pandasの章の総合問題で使った購買データを使います。データの加工方法も途中まで同じです。"
   ]
  },
  {
   "cell_type": "code",
   "execution_count": 37,
   "metadata": {},
   "outputs": [
    {
     "data": {
      "text/html": [
       "<div>\n",
       "<style scoped>\n",
       "    .dataframe tbody tr th:only-of-type {\n",
       "        vertical-align: middle;\n",
       "    }\n",
       "\n",
       "    .dataframe tbody tr th {\n",
       "        vertical-align: top;\n",
       "    }\n",
       "\n",
       "    .dataframe thead th {\n",
       "        text-align: right;\n",
       "    }\n",
       "</style>\n",
       "<table border=\"1\" class=\"dataframe\">\n",
       "  <thead>\n",
       "    <tr style=\"text-align: right;\">\n",
       "      <th></th>\n",
       "      <th>InvoiceNo</th>\n",
       "      <th>StockCode</th>\n",
       "      <th>Description</th>\n",
       "      <th>Quantity</th>\n",
       "      <th>InvoiceDate</th>\n",
       "      <th>UnitPrice</th>\n",
       "      <th>CustomerID</th>\n",
       "      <th>Country</th>\n",
       "    </tr>\n",
       "  </thead>\n",
       "  <tbody>\n",
       "    <tr>\n",
       "      <th>0</th>\n",
       "      <td>536365</td>\n",
       "      <td>85123A</td>\n",
       "      <td>WHITE HANGING HEART T-LIGHT HOLDER</td>\n",
       "      <td>6</td>\n",
       "      <td>2010-12-01 08:26:00</td>\n",
       "      <td>2.55</td>\n",
       "      <td>17850.0</td>\n",
       "      <td>United Kingdom</td>\n",
       "    </tr>\n",
       "    <tr>\n",
       "      <th>1</th>\n",
       "      <td>536365</td>\n",
       "      <td>71053</td>\n",
       "      <td>WHITE METAL LANTERN</td>\n",
       "      <td>6</td>\n",
       "      <td>2010-12-01 08:26:00</td>\n",
       "      <td>3.39</td>\n",
       "      <td>17850.0</td>\n",
       "      <td>United Kingdom</td>\n",
       "    </tr>\n",
       "    <tr>\n",
       "      <th>2</th>\n",
       "      <td>536365</td>\n",
       "      <td>84406B</td>\n",
       "      <td>CREAM CUPID HEARTS COAT HANGER</td>\n",
       "      <td>8</td>\n",
       "      <td>2010-12-01 08:26:00</td>\n",
       "      <td>2.75</td>\n",
       "      <td>17850.0</td>\n",
       "      <td>United Kingdom</td>\n",
       "    </tr>\n",
       "    <tr>\n",
       "      <th>3</th>\n",
       "      <td>536365</td>\n",
       "      <td>84029G</td>\n",
       "      <td>KNITTED UNION FLAG HOT WATER BOTTLE</td>\n",
       "      <td>6</td>\n",
       "      <td>2010-12-01 08:26:00</td>\n",
       "      <td>3.39</td>\n",
       "      <td>17850.0</td>\n",
       "      <td>United Kingdom</td>\n",
       "    </tr>\n",
       "    <tr>\n",
       "      <th>4</th>\n",
       "      <td>536365</td>\n",
       "      <td>84029E</td>\n",
       "      <td>RED WOOLLY HOTTIE WHITE HEART.</td>\n",
       "      <td>6</td>\n",
       "      <td>2010-12-01 08:26:00</td>\n",
       "      <td>3.39</td>\n",
       "      <td>17850.0</td>\n",
       "      <td>United Kingdom</td>\n",
       "    </tr>\n",
       "  </tbody>\n",
       "</table>\n",
       "</div>"
      ],
      "text/plain": [
       "  InvoiceNo StockCode                          Description  Quantity  \\\n",
       "0    536365    85123A   WHITE HANGING HEART T-LIGHT HOLDER         6   \n",
       "1    536365     71053                  WHITE METAL LANTERN         6   \n",
       "2    536365    84406B       CREAM CUPID HEARTS COAT HANGER         8   \n",
       "3    536365    84029G  KNITTED UNION FLAG HOT WATER BOTTLE         6   \n",
       "4    536365    84029E       RED WOOLLY HOTTIE WHITE HEART.         6   \n",
       "\n",
       "          InvoiceDate  UnitPrice  CustomerID         Country  \n",
       "0 2010-12-01 08:26:00       2.55     17850.0  United Kingdom  \n",
       "1 2010-12-01 08:26:00       3.39     17850.0  United Kingdom  \n",
       "2 2010-12-01 08:26:00       2.75     17850.0  United Kingdom  \n",
       "3 2010-12-01 08:26:00       3.39     17850.0  United Kingdom  \n",
       "4 2010-12-01 08:26:00       3.39     17850.0  United Kingdom  "
      ]
     },
     "execution_count": 37,
     "metadata": {},
     "output_type": "execute_result"
    }
   ],
   "source": [
    "import pandas as pd\n",
    "\n",
    "file_url = \"http://archive.ics.uci.edu/ml/machine-learning-databases/00352/Online%20Retail.xlsx\"\n",
    "online_retail_data = pd.ExcelFile(file_url)\n",
    "\n",
    "# シートを指定する\n",
    "online_retail_data_table = online_retail_data.parse('Online Retail')\n",
    "online_retail_data_table.head()"
   ]
  },
  {
   "cell_type": "markdown",
   "metadata": {},
   "source": [
    "参考ですが、読み込みに時間がかかりますので、あらかじめダウンロードして、それを読み込むようにコーディングしておくことをお勧めします。"
   ]
  },
  {
   "cell_type": "code",
   "execution_count": 38,
   "metadata": {},
   "outputs": [
    {
     "data": {
      "text/html": [
       "<div>\n",
       "<style scoped>\n",
       "    .dataframe tbody tr th:only-of-type {\n",
       "        vertical-align: middle;\n",
       "    }\n",
       "\n",
       "    .dataframe tbody tr th {\n",
       "        vertical-align: top;\n",
       "    }\n",
       "\n",
       "    .dataframe thead th {\n",
       "        text-align: right;\n",
       "    }\n",
       "</style>\n",
       "<table border=\"1\" class=\"dataframe\">\n",
       "  <thead>\n",
       "    <tr style=\"text-align: right;\">\n",
       "      <th></th>\n",
       "      <th>InvoiceNo</th>\n",
       "      <th>StockCode</th>\n",
       "      <th>Description</th>\n",
       "      <th>Quantity</th>\n",
       "      <th>InvoiceDate</th>\n",
       "      <th>UnitPrice</th>\n",
       "      <th>CustomerID</th>\n",
       "      <th>Country</th>\n",
       "    </tr>\n",
       "  </thead>\n",
       "  <tbody>\n",
       "    <tr>\n",
       "      <th>0</th>\n",
       "      <td>536365</td>\n",
       "      <td>85123A</td>\n",
       "      <td>WHITE HANGING HEART T-LIGHT HOLDER</td>\n",
       "      <td>6</td>\n",
       "      <td>2010-12-01 08:26:00</td>\n",
       "      <td>2.55</td>\n",
       "      <td>17850.0</td>\n",
       "      <td>United Kingdom</td>\n",
       "    </tr>\n",
       "    <tr>\n",
       "      <th>1</th>\n",
       "      <td>536365</td>\n",
       "      <td>71053</td>\n",
       "      <td>WHITE METAL LANTERN</td>\n",
       "      <td>6</td>\n",
       "      <td>2010-12-01 08:26:00</td>\n",
       "      <td>3.39</td>\n",
       "      <td>17850.0</td>\n",
       "      <td>United Kingdom</td>\n",
       "    </tr>\n",
       "    <tr>\n",
       "      <th>2</th>\n",
       "      <td>536365</td>\n",
       "      <td>84406B</td>\n",
       "      <td>CREAM CUPID HEARTS COAT HANGER</td>\n",
       "      <td>8</td>\n",
       "      <td>2010-12-01 08:26:00</td>\n",
       "      <td>2.75</td>\n",
       "      <td>17850.0</td>\n",
       "      <td>United Kingdom</td>\n",
       "    </tr>\n",
       "    <tr>\n",
       "      <th>3</th>\n",
       "      <td>536365</td>\n",
       "      <td>84029G</td>\n",
       "      <td>KNITTED UNION FLAG HOT WATER BOTTLE</td>\n",
       "      <td>6</td>\n",
       "      <td>2010-12-01 08:26:00</td>\n",
       "      <td>3.39</td>\n",
       "      <td>17850.0</td>\n",
       "      <td>United Kingdom</td>\n",
       "    </tr>\n",
       "    <tr>\n",
       "      <th>4</th>\n",
       "      <td>536365</td>\n",
       "      <td>84029E</td>\n",
       "      <td>RED WOOLLY HOTTIE WHITE HEART.</td>\n",
       "      <td>6</td>\n",
       "      <td>2010-12-01 08:26:00</td>\n",
       "      <td>3.39</td>\n",
       "      <td>17850.0</td>\n",
       "      <td>United Kingdom</td>\n",
       "    </tr>\n",
       "  </tbody>\n",
       "</table>\n",
       "</div>"
      ],
      "text/plain": [
       "  InvoiceNo StockCode                          Description  Quantity  \\\n",
       "0    536365    85123A   WHITE HANGING HEART T-LIGHT HOLDER         6   \n",
       "1    536365     71053                  WHITE METAL LANTERN         6   \n",
       "2    536365    84406B       CREAM CUPID HEARTS COAT HANGER         8   \n",
       "3    536365    84029G  KNITTED UNION FLAG HOT WATER BOTTLE         6   \n",
       "4    536365    84029E       RED WOOLLY HOTTIE WHITE HEART.         6   \n",
       "\n",
       "          InvoiceDate  UnitPrice  CustomerID         Country  \n",
       "0 2010-12-01 08:26:00       2.55     17850.0  United Kingdom  \n",
       "1 2010-12-01 08:26:00       3.39     17850.0  United Kingdom  \n",
       "2 2010-12-01 08:26:00       2.75     17850.0  United Kingdom  \n",
       "3 2010-12-01 08:26:00       3.39     17850.0  United Kingdom  \n",
       "4 2010-12-01 08:26:00       3.39     17850.0  United Kingdom  "
      ]
     },
     "execution_count": 38,
     "metadata": {},
     "output_type": "execute_result"
    }
   ],
   "source": [
    "# 参考(処理としては上と同じ)\n",
    "import requests\n",
    "\n",
    "file_url = \"http://archive.ics.uci.edu/ml/machine-learning-databases/00352/Online%20Retail.xlsx\"\n",
    "resp = requests.get(file_url)\n",
    "\n",
    "#onlineRetail.xlsというファイル名で作成\n",
    "output = open(\"onlineRetail.xls\", 'wb')\n",
    "output.write(resp.content)\n",
    "output.close()\n",
    "\n",
    "# 以下、上と同じ\n",
    "online_retail_data = pd.ExcelFile(\"onlineRetail.xls\")\n",
    "\n",
    "# シートを指定する\n",
    "online_retail_data_table = online_retail_data.parse('Online Retail')\n",
    "online_retail_data_table.head()"
   ]
  },
  {
   "cell_type": "markdown",
   "metadata": {},
   "source": [
    "以下は、以前と同じ処理をしています。"
   ]
  },
  {
   "cell_type": "code",
   "execution_count": 39,
   "metadata": {},
   "outputs": [],
   "source": [
    "online_retail_data_table['cancel_flg'] = online_retail_data_table.InvoiceNo.map(lambda x:str(x)[0])"
   ]
  },
  {
   "cell_type": "code",
   "execution_count": 40,
   "metadata": {},
   "outputs": [
    {
     "data": {
      "text/plain": [
       "cancel_flg\n",
       "5    532618\n",
       "A         3\n",
       "C      9288\n",
       "dtype: int64"
      ]
     },
     "execution_count": 40,
     "metadata": {},
     "output_type": "execute_result"
    }
   ],
   "source": [
    "online_retail_data_table.groupby(\"cancel_flg\").size()"
   ]
  },
  {
   "cell_type": "markdown",
   "metadata": {},
   "source": [
    "InvoiceNoの先頭にCがあるものキャンセル扱いなのでこれは集計対象外とするのでした。また、Aは何の記号が不明なのでこれも対象外として、分析対象は数字であるもの（5で始まっているもの）にします。"
   ]
  },
  {
   "cell_type": "code",
   "execution_count": 41,
   "metadata": {},
   "outputs": [],
   "source": [
    "online_retail_data_table = online_retail_data_table[(online_retail_data_table.cancel_flg == '5') \n",
    "                                                    & (online_retail_data_table.CustomerID.notnull())]"
   ]
  },
  {
   "cell_type": "markdown",
   "metadata": {},
   "source": [
    "参考で、pandasはピボットテーブルも使えます。（**なお、今回扱うデータが大きく、ilect上ではメモリー不足となるので、参考にみてください**）実行できない"
   ]
  },
  {
   "cell_type": "code",
   "execution_count": null,
   "metadata": {},
   "outputs": [],
   "source": [
    "invoice_stock_tb = pd.pivot_table(online_retail_data_table, values='Quantity'\n",
    "                                          , index=['InvoiceNo'], columns=['StockCode'],aggfunc=lambda x : len(x)\n",
    "                                          ,fill_value = 0) \n",
    "invoice_stock_tb.head(5)"
   ]
  },
  {
   "cell_type": "markdown",
   "metadata": {},
   "source": [
    "stockCodeのランキングを見てみます。"
   ]
  },
  {
   "cell_type": "code",
   "execution_count": 42,
   "metadata": {},
   "outputs": [
    {
     "data": {
      "text/plain": [
       "StockCode\n",
       "85123A    2035\n",
       "22423     1724\n",
       "85099B    1618\n",
       "84879     1408\n",
       "47566     1397\n",
       "dtype: int64"
      ]
     },
     "execution_count": 42,
     "metadata": {},
     "output_type": "execute_result"
    }
   ],
   "source": [
    "online_retail_data_table_sc = online_retail_data_table.groupby(\"StockCode\").size()\n",
    "online_retail_data_table_sc.sort_values(ascending=False).head(5)"
   ]
  },
  {
   "cell_type": "markdown",
   "metadata": {},
   "source": [
    "なお、以下のように列名を指定した後に、value_counts()をつけて実行することで、同じ結果が得られます。"
   ]
  },
  {
   "cell_type": "code",
   "execution_count": 43,
   "metadata": {},
   "outputs": [
    {
     "data": {
      "text/plain": [
       "85123A    2035\n",
       "22423     1724\n",
       "85099B    1618\n",
       "84879     1408\n",
       "47566     1397\n",
       "Name: StockCode, dtype: int64"
      ]
     },
     "execution_count": 43,
     "metadata": {},
     "output_type": "execute_result"
    }
   ],
   "source": [
    "online_retail_data_table[\"StockCode\"].value_counts().head(5)"
   ]
  },
  {
   "cell_type": "markdown",
   "metadata": {},
   "source": [
    "次に、上記のTOP5のアイテムのうち85123Aと85099Bを使って、購買データのバスケット分析でよく使われるアソシエーションルールの基本的な概念、支持度、確信度、リフトの算出について見ていきましょう。"
   ]
  },
  {
   "cell_type": "markdown",
   "metadata": {
    "collapsed": true
   },
   "source": [
    "#### 支持度(support)\n",
    "\n",
    "支持度は、すべてのバスケット数（トランザクション数、レシート数）をベースに、ある商品（ここでは85123A）と別の商品（85099B）の組み合わせ購買がどれくらいあったのかその割合を意味します。"
   ]
  },
  {
   "cell_type": "markdown",
   "metadata": {},
   "source": [
    "具体的に、商品コード85123Aと商品コード85099Bの支持度を算出してみましょう。まず、それぞれの購買データを絞り込んでデータを生成します。"
   ]
  },
  {
   "cell_type": "code",
   "execution_count": 44,
   "metadata": {},
   "outputs": [],
   "source": [
    "online_retail_data_table_first = online_retail_data_table[online_retail_data_table[\"StockCode\"]==\"85123A\"]\n",
    "online_retail_data_table_second = online_retail_data_table[online_retail_data_table[\"StockCode\"]==\"85099B\"]"
   ]
  },
  {
   "cell_type": "markdown",
   "metadata": {},
   "source": [
    "次は、商品コード85123Aと商品コード85099Bが同じバスケットにある場合をカウントするためのデータを生成しています。同じバスケットにあるというのは、InvoiceNoが同じなので、それをキーにして内部結合しています。"
   ]
  },
  {
   "cell_type": "code",
   "execution_count": 45,
   "metadata": {},
   "outputs": [],
   "source": [
    "merge_one_second = pd.merge(online_retail_data_table_first\n",
    "                           ,online_retail_data_table_second\n",
    "                           ,on=\"InvoiceNo\"\n",
    "                           ,how=\"inner\")"
   ]
  },
  {
   "cell_type": "markdown",
   "metadata": {},
   "source": [
    "以下のonline_retail_data_table.InvoiceNo.unique()は、それぞれのバスケットをユニークにして、lenでその数を数えており全体のバスケット数になります。merge_one_second.InvoiceNo.unique()は商品コード85123Aと商品コード85099Bが同時買われている回数を数えるためのデータで、lenでその数をカウントしています。よって、支持度は、以下のように計算できます。"
   ]
  },
  {
   "cell_type": "code",
   "execution_count": 46,
   "metadata": {},
   "outputs": [
    {
     "data": {
      "text/plain": [
       "0.014"
      ]
     },
     "execution_count": 46,
     "metadata": {},
     "output_type": "execute_result"
    }
   ],
   "source": [
    "len(merge_one_second.InvoiceNo.unique()) / len(online_retail_data_table.InvoiceNo.unique())"
   ]
  },
  {
   "cell_type": "markdown",
   "metadata": {},
   "source": [
    "上記より、商品コード85123Aと商品コード85099Bの支持度は0.014であることがわかりました。"
   ]
  },
  {
   "cell_type": "markdown",
   "metadata": {
    "collapsed": true
   },
   "source": [
    "#### 確信度（信頼度、confidence）\n",
    "\n",
    "確信度は、ある商品Aのトランザクション数をベースに、その商品Aとある商品Bの組み合わせ購買がどれくらいの割合であったかを表します。"
   ]
  },
  {
   "cell_type": "markdown",
   "metadata": {},
   "source": [
    "商品コード85123Aをベースとして、そのトランザクション数をベースに商品Aと商品Bの組わせトランザクション数を割りましょう。"
   ]
  },
  {
   "cell_type": "code",
   "execution_count": 47,
   "metadata": {},
   "outputs": [
    {
     "data": {
      "text/plain": [
       "0.127"
      ]
     },
     "execution_count": 47,
     "metadata": {},
     "output_type": "execute_result"
    }
   ],
   "source": [
    "len(merge_one_second.InvoiceNo.unique()) / len(online_retail_data_table_first.InvoiceNo.unique())"
   ]
  },
  {
   "cell_type": "markdown",
   "metadata": {},
   "source": [
    "なお、商品コード85099Bがベースだと以下です。"
   ]
  },
  {
   "cell_type": "code",
   "execution_count": 48,
   "metadata": {},
   "outputs": [
    {
     "data": {
      "text/plain": [
       "0.158"
      ]
     },
     "execution_count": 48,
     "metadata": {},
     "output_type": "execute_result"
    }
   ],
   "source": [
    "len(merge_one_second.InvoiceNo.unique()) / len(online_retail_data_table_second.InvoiceNo.unique())"
   ]
  },
  {
   "cell_type": "markdown",
   "metadata": {
    "collapsed": true
   },
   "source": [
    "#### リフト値(lift)\n",
    "\n",
    "すべての購買の中で、ある商品Aが購買される割合をベースにして、ある商品Bが購買された中でそのBと商品Aとの組み合わせ購買の割合を分子として算出する方法がリフト値です。若干、意味がわかりにくいですが、要するに、商品Aと商品Bの購買組み合わせが多いのは単にそれらがもともと売れていたからというのをかき消すために、全体の購買の割合で割っています。\n",
    "\n",
    "以下で、リフト値を計算しています。"
   ]
  },
  {
   "cell_type": "code",
   "execution_count": 49,
   "metadata": {},
   "outputs": [
    {
     "data": {
      "text/plain": [
       "1.476"
      ]
     },
     "execution_count": 49,
     "metadata": {},
     "output_type": "execute_result"
    }
   ],
   "source": [
    "a = len(merge_one_second.InvoiceNo.unique()) / len(online_retail_data_table_second.InvoiceNo.unique())\n",
    "b = len(online_retail_data_table_first.InvoiceNo.unique()) / len(online_retail_data_table.InvoiceNo.unique())\n",
    "\n",
    "lift = a / b\n",
    "lift"
   ]
  },
  {
   "cell_type": "markdown",
   "metadata": {},
   "source": [
    "絶対的な数値の基準はありませんが、リフト1を超えてくると意味のある数字（AとBの組み合わせ購買が多い）として捉えられます。"
   ]
  },
  {
   "cell_type": "markdown",
   "metadata": {},
   "source": [
    "なお、支持度、確信度、リフトのイメージ図としては以下のように、ベン図で考えると良いかもしれません。XとYがそれぞれの商品の購買で、Dが全体の購買です。"
   ]
  },
  {
   "cell_type": "markdown",
   "metadata": {},
   "source": [
    "![](https://image.slidesharecdn.com/atsseminar141022modtjo-141027015957-conversion-gate02/95/-68-638.jpg?cb=1414375270)"
   ]
  },
  {
   "cell_type": "markdown",
   "metadata": {},
   "source": [
    "参照URL:https://image.slidesharecdn.com/atsseminar141022modtjo-141027015957-conversion-gate02/95/-68-638.jpg?cb=1414375270"
   ]
  },
  {
   "cell_type": "markdown",
   "metadata": {},
   "source": [
    "以上で、アソシエーション分析の簡単な紹介は終わります。実際に購買データを分析する際には、いろいろと考慮すべきこと（対象店舗、対象ユーザー、対象期間の絞り込みなど）があったり、また、この分野に関連してアプリオリアルゴリズムなどありますが、購買データ分析で必要になった時に調べてみてください。"
   ]
  },
  {
   "cell_type": "markdown",
   "metadata": {},
   "source": [
    "これで教師なし学習、および機械学習の基礎は終わりです。お疲れ様でした。総合問題が終わったあとは、教師あり学習の章で少し触れたモデルの検証方法等について学びます。\n",
    "\n",
    "なお以下の参考文献は、データサイエンスの数学的な理論やプログラミング実装ではなく、ビジネス的な視点でのデータ分析に関する本です。これまで機械学習の手法について色々と学んできましたが、それをビジネスで使うとなると理論的な問題や実装以外にも考えることや、やることが色々とあります。この講座は主に手を動かして実装することが目的なので、あまりビジネス的な注意点は述べませんが、以下の本に書いてあるようなこともとても大事なので、この講座を終えた後に読まれることをお勧めします。"
   ]
  },
  {
   "cell_type": "markdown",
   "metadata": {},
   "source": [
    ">[参考文献]\n",
    "\n",
    ">『最強のデータ分析組織 なぜ大阪ガスは成功したのか』(河本 薫 (著)、日経BP社)\n",
    "\n",
    ">『最強のビッグデータ戦略』（ビル・フランクス (著), 長尾高弘  (翻訳)、日経BP社）\n",
    "\n",
    ">『データサイエンティストの秘密ノート 35の失敗事例と克服法』（高橋 威知郎  (著), 白石 卓也 (著), 清水 景絵 (著)、SBクリエイティブ）\n",
    "\n",
    ">『アクセンチュアのプロフェッショナルが教える データ・アナリティクス実践講座』（アクセンチュア アナリティクス (著), 工藤 卓哉  (監修), 保科 学世 (監修)、翔泳社 ）\n",
    "\n",
    "\n",
    ">『機械脳の時代―――データサイエンスは戦略・組織・仕事をどう変えるのか?』(加藤 エルテス 聡志 (著)、ダイヤモンド社)\n",
    "\n",
    ">『会社を変える分析の力 (講談社現代新書) 』(河本 薫 (著)、講談社)"
   ]
  },
  {
   "cell_type": "markdown",
   "metadata": {},
   "source": [
    ">**[やってみよう]**\n",
    "\n",
    ">上記の参考文献などを読んで、実装や理論だけではなく、現場のデータ分析について何が求められているのか学びましょう。"
   ]
  },
  {
   "cell_type": "markdown",
   "metadata": {},
   "source": [
    "####  <練習問題 1>\n",
    "上記の購買データを使って、その他の商品の組み合わせの支持度、確信度、リフト値を算出してみましょう。どの商品の組み合わせでも良いです。"
   ]
  },
  {
   "cell_type": "markdown",
   "metadata": {},
   "source": [
    "## 12.4 総合問題"
   ]
  },
  {
   "cell_type": "markdown",
   "metadata": {},
   "source": [
    "### 12.4.1 総合問題1\n",
    "\n",
    "教師なし学習に関する用語について、それぞれの役割や意味について述べてください。どのような場面で使いますか？ネットや参考文献等も使って調べてみてください。\n",
    "- 教師なし学習\n",
    "- クラスタリング\n",
    "- クラスター数\n",
    "- エルボー法\n",
    "- シルエット係数\n",
    "- 階層型クラスタリング\n",
    "- 非階層型クラスタリング\n",
    "- 主成分分析\n",
    "- アソシエーションルール\n",
    "- 支持度\n",
    "- 確信度\n",
    "- リフト値"
   ]
  },
  {
   "cell_type": "markdown",
   "metadata": {},
   "source": [
    "### 12.4.2 総合問題2\n",
    "上記の購買データ（onlineRetailデータ）を使って、どの商品とどの商品の組み合わせの支持度が一番高いですか？ただし、レコード数が1000より多い商品（StockCode）を対象に計算してください。（ヒント：商品の組み合わせを抽出するときは、itertoolsモジュールを使います。）"
   ]
  }
 ],
 "metadata": {
  "anaconda-cloud": {},
  "kernelspec": {
   "display_name": "Python 3",
   "language": "python",
   "name": "python3"
  },
  "language_info": {
   "codemirror_mode": {
    "name": "ipython",
    "version": 3
   },
   "file_extension": ".py",
   "mimetype": "text/x-python",
   "name": "python",
   "nbconvert_exporter": "python",
   "pygments_lexer": "ipython3",
   "version": "3.5.4"
  },
  "widgets": {
   "state": {},
   "version": "1.1.2"
  }
 },
 "nbformat": 4,
 "nbformat_minor": 1
}
